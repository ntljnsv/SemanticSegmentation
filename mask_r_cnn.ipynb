{
  "nbformat": 4,
  "nbformat_minor": 0,
  "metadata": {
    "colab": {
      "provenance": []
    },
    "kernelspec": {
      "name": "python3",
      "display_name": "Python 3"
    },
    "language_info": {
      "name": "python"
    }
  },
  "cells": [
    {
      "cell_type": "markdown",
      "source": [],
      "metadata": {
        "id": "wJrQVyo_PXM5"
      }
    },
    {
      "cell_type": "markdown",
      "source": [
        "# Fetching the model and model requirements"
      ],
      "metadata": {
        "id": "2fekOwY0PQ_7"
      }
    },
    {
      "cell_type": "code",
      "source": [
        "!git clone https://github.com/z-mahmud22/Mask-RCNN_TF2.14.0.git maskrcnn"
      ],
      "metadata": {
        "id": "5D0VYii4akDY"
      },
      "execution_count": null,
      "outputs": []
    },
    {
      "cell_type": "code",
      "source": [
        "%cd maskrcnn"
      ],
      "metadata": {
        "id": "zB13l7A8GRbe"
      },
      "execution_count": null,
      "outputs": []
    },
    {
      "cell_type": "code",
      "source": [
        "!pip install -r requirements.txt"
      ],
      "metadata": {
        "collapsed": true,
        "id": "T7WdOzweF_re"
      },
      "execution_count": null,
      "outputs": []
    },
    {
      "cell_type": "code",
      "source": [
        "!python setup.py install"
      ],
      "metadata": {
        "collapsed": true,
        "id": "uazQ-FafGCLj"
      },
      "execution_count": null,
      "outputs": []
    },
    {
      "cell_type": "code",
      "source": [
        "!wget https://github.com/matterport/Mask_RCNN/releases/download/v2.0/mask_rcnn_coco.h5"
      ],
      "metadata": {
        "id": "dbS5Bax6URxx",
        "collapsed": true
      },
      "execution_count": null,
      "outputs": []
    },
    {
      "cell_type": "markdown",
      "source": [
        "# Inference segmentation"
      ],
      "metadata": {
        "id": "FPrzGd7hPYqN"
      }
    },
    {
      "cell_type": "code",
      "source": [
        "import os\n",
        "import sys\n",
        "import random\n",
        "import numpy as np\n",
        "import skimage.io\n",
        "import matplotlib.pyplot as plt\n",
        "import mrcnn\n",
        "import mrcnn.config\n",
        "import mrcnn.model\n",
        "import mrcnn.visualize\n",
        "import cv2"
      ],
      "metadata": {
        "id": "p9QOYmsKUU3L"
      },
      "execution_count": null,
      "outputs": []
    },
    {
      "cell_type": "code",
      "source": [
        "CLASS_NAMES = open(\"samples/coco_labels.txt\").read().strip().split(\"\\n\")"
      ],
      "metadata": {
        "id": "RJsZAd1uiTrp"
      },
      "execution_count": null,
      "outputs": []
    },
    {
      "cell_type": "code",
      "source": [
        "class SimpleConfig(mrcnn.config.Config):\n",
        "    NAME = \"coco_inference\"\n",
        "    GPU_COUNT = 1\n",
        "    IMAGES_PER_GPU = 1\n",
        "\n",
        "    NUM_CLASSES = len(CLASS_NAMES)"
      ],
      "metadata": {
        "id": "TvAs50klig_-"
      },
      "execution_count": null,
      "outputs": []
    },
    {
      "cell_type": "code",
      "source": [
        "model = mrcnn.model.MaskRCNN(mode=\"inference\", config=SimpleConfig(), model_dir=os.getcwd())"
      ],
      "metadata": {
        "collapsed": true,
        "id": "85BoKKNVih-k"
      },
      "execution_count": null,
      "outputs": []
    },
    {
      "cell_type": "code",
      "source": [
        "model.load_weights(filepath=\"mask_rcnn_coco.h5\", by_name=True)"
      ],
      "metadata": {
        "id": "c-aYeJ0Diq9m"
      },
      "execution_count": null,
      "outputs": []
    },
    {
      "cell_type": "code",
      "source": [
        "from google.colab import drive\n",
        "drive.mount('/content/drive')"
      ],
      "metadata": {
        "id": "KEOhzaq7Czni"
      },
      "execution_count": null,
      "outputs": []
    },
    {
      "cell_type": "code",
      "source": [
        "def predict_masks(image_files):\n",
        "    for image_file in image_files:\n",
        "        image = cv2.imread(image_file)\n",
        "        image = cv2.cvtColor(image, cv2.COLOR_BGR2RGB)\n",
        "\n",
        "        r = model.detect([image], verbose=0)\n",
        "        r = r[0]\n",
        "\n",
        "        mrcnn.visualize.display_instances(\n",
        "            image=image,\n",
        "            boxes=r['rois'],\n",
        "            masks=r['masks'],\n",
        "            class_ids=r['class_ids'],\n",
        "            class_names=CLASS_NAMES,\n",
        "            scores=r['scores']\n",
        "        )\n",
        "\n",
        "images = [] #images for prediction\n",
        "predict_masks(images)"
      ],
      "metadata": {
        "id": "ZFBQQZezDEr1"
      },
      "execution_count": null,
      "outputs": []
    }
  ]
}